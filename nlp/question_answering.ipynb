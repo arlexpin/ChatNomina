{
 "cells": [
  {
   "cell_type": "code",
   "execution_count": null,
   "metadata": {},
   "outputs": [
    {
     "name": "stderr",
     "output_type": "stream",
     "text": [
      "Device set to use cpu\n"
     ]
    },
    {
     "name": "stdout",
     "output_type": "stream",
     "text": [
      "\n",
      "❓ Pregunta: ¿Cuándo se paga la nómina?\n",
      "✅ Respuesta: El salario de los empleados\n",
      "\n",
      "❓ Pregunta: ¿Quiénes reciben auxilio de transporte?\n",
      "✅ Respuesta: ganan hasta dos salarios mínimos\n",
      "\n",
      "❓ Pregunta: ¿Cuánto es el recargo por horas extra?\n",
      "✅ Respuesta: 75%\n",
      "\n",
      "❓ Pregunta: ¿Cómo se descuentan los préstamos?\n",
      "✅ Respuesta: aplican mensualmente\n"
     ]
    }
   ],
   "source": [
    "from transformers import pipeline\n",
    "import textwrap\n",
    "\n",
    "qa_pipeline = pipeline(\"question-answering\", model=\"distilbert-base-uncased-distilled-squad\")\n",
    "\n",
    "contexto_nomina = \"\"\"\n",
    "El salario de los empleados se paga el día 22 de cada mes. Las deducciones incluyen aportes a seguridad social, salud 4% y pensión 4%, cuando supera los 4 salarios minimos se descuenta solidaridad y subsistencia. El auxilio de transporte se otorga a quienes ganan hasta dos salarios mínimos. Las horas extra se pagan con un recargo del 75%. Los descuentos por préstamos se aplican mensualmente.\n",
    "\"\"\"\n",
    "\n",
    "def responder_pregunta(pregunta, contexto):\n",
    "    resultado = qa_pipeline(question=pregunta, context=contexto)\n",
    "    respuesta = resultado['answer']\n",
    "    return respuesta\n",
    "\n",
    "preguntas = [\n",
    "    \"¿Cuándo se paga la nómina?\",\n",
    "    \"¿Quiénes reciben auxilio de transporte?\",\n",
    "    \"¿Cuánto es el recargo por horas extra?\",\n",
    "    \"¿Cómo se descuentan los préstamos?\"\n",
    "]\n",
    "\n",
    "for p in preguntas:\n",
    "    print(\"\\n❓ Pregunta:\", p)\n",
    "    print(\"✅ Respuesta:\", responder_pregunta(p, contexto_nomina))\n"
   ]
  }
 ],
 "metadata": {
  "kernelspec": {
   "display_name": "Python 3",
   "language": "python",
   "name": "python3"
  },
  "language_info": {
   "codemirror_mode": {
    "name": "ipython",
    "version": 3
   },
   "file_extension": ".py",
   "mimetype": "text/x-python",
   "name": "python",
   "nbconvert_exporter": "python",
   "pygments_lexer": "ipython3",
   "version": "3.12.10"
  }
 },
 "nbformat": 4,
 "nbformat_minor": 2
}
