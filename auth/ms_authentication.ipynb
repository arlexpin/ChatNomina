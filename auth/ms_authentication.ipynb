{
 "cells": [
  {
   "cell_type": "code",
   "execution_count": null,
   "metadata": {},
   "outputs": [],
   "source": [
    "from msal import PublicClientApplication\n",
    "import os\n",
    "import webbrowser\n",
    "\n",
    "# Cargar configuraciones desde variables de entorno (puedes usar dotenv si prefieres)\n",
    "TENANT_ID = \"e994072b-523e-4bfe-86e2-442c5e10b244\"\n",
    "CLIENT_ID = \"d4f0a82a-0933-4dad-b584-1fa5cd7ab1e3\"\n",
    "AUTHORITY = f\"https://login.microsoftonline.com/{TENANT_ID}\"\n",
    "SCOPE = [\"Files.Read.All\"]  # Permiso para leer archivos en SharePoint\n",
    "\n",
    "# Crear aplicación MSAL\n",
    "app = PublicClientApplication(\n",
    "    client_id=CLIENT_ID,\n",
    "    authority=AUTHORITY\n",
    ")\n",
    "# Intentar obtener un token silenciosamente desde la caché\n",
    "accounts = app.get_accounts()\n",
    "if accounts:\n",
    "    result = app.acquire_token_silent(SCOPE, account=accounts[0])\n",
    "else:\n",
    "    # Solicitar interactivamente el login (dispara el navegador)\n",
    "    flow = app.initiate_device_flow(scopes=SCOPE)\n",
    "    if \"user_code\" not in flow:\n",
    "        raise Exception(\"No se pudo iniciar el flujo de dispositivo\")\n",
    "    print(\"Por favor, ve a:\", flow[\"verification_uri\"])\n",
    "    print(\"e ingresa el código:\", flow[\"user_code\"])\n",
    "    result = app.acquire_token_by_device_flow(flow)\n",
    "\n",
    "# Verificación del resultado\n",
    "if \"access_token\" in result:\n",
    "    print(\"✅ Autenticación exitosa!\")\n",
    "    access_token = result[\"access_token\"]\n",
    "    os.environ[\"ACCESS_TOKEN\"] = access_token\n",
    "else:\n",
    "    print(\"❌ Error en la autenticación:\", result.get(\"error_description\"))"
   ]
  }
 ],
 "metadata": {
  "kernelspec": {
   "display_name": "Python 3",
   "language": "python",
   "name": "python3"
  },
  "language_info": {
   "codemirror_mode": {
    "name": "ipython",
    "version": 3
   },
   "file_extension": ".py",
   "mimetype": "text/x-python",
   "name": "python",
   "nbconvert_exporter": "python",
   "pygments_lexer": "ipython3",
   "version": "3.12.10"
  }
 },
 "nbformat": 4,
 "nbformat_minor": 2
}
