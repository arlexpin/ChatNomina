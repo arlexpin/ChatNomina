{
 "cells": [
  {
   "cell_type": "code",
   "execution_count": null,
   "metadata": {},
   "outputs": [],
   "source": [
    "import os\n",
    "import requests\n",
    "from pprint import pprint\n",
    "\n",
    "# Configuraciones SharePoint\n",
    "SITE_ID = \"icesiedu.sharepoint.com,0c48bb60-1f87-48c7-ac59-63598f29f94f,d346b80a-b5ca-40fd-9992-fd1307514698\"  # Puedes obtenerlo desde Graph Explorer o el portal de SharePoint\n",
    "DRIVE_ID = \"b!YLtIDIcfx0isWWNZjyn5Twq4RtPKtf1AmZL9EwdRRpjHTFOg5NodRaFJ9iDy219-\"  # ID de la biblioteca de documentos donde está la carpeta de nómina\n",
    "FOLDER_PATH = \"2.%20REPORTES%20-%20HR%20Y%20HUMANO\"  # Ruta relativa dentro del drive\n",
    "ACCESS_TOKEN = \"eyJ0eXAiOiJKV1QiLCJub25jZSI6Imc3MGZhOGhmdk1iSGdubnFRLXJYNUVyMEx4NU5UZUtWNWd5RU1vWWRrNzgiLCJhbGciOiJSUzI1NiIsIng1dCI6IkNOdjBPSTNSd3FsSEZFVm5hb01Bc2hDSDJYRSIsImtpZCI6IkNOdjBPSTNSd3FsSEZFVm5hb01Bc2hDSDJYRSJ9.eyJhdWQiOiIwMDAwMDAwMy0wMDAwLTAwMDAtYzAwMC0wMDAwMDAwMDAwMDAiLCJpc3MiOiJodHRwczovL3N0cy53aW5kb3dzLm5ldC9lOTk0MDcyYi01MjNlLTRiZmUtODZlMi00NDJjNWUxMGIyNDQvIiwiaWF0IjoxNzQ0ODIzMzk0LCJuYmYiOjE3NDQ4MjMzOTQsImV4cCI6MTc0NDgyNzkzMiwiYWNjdCI6MCwiYWNyIjoiMSIsImFjcnMiOlsicDEiXSwiYWlvIjoiQVdRQW0vOFpBQUFBSTN2aWdjR3BoVG0rMUVjVnE2a3VjSitKM1BCcFB5OGpUV0toUzdlMkdDWHVuM0ZId3k4NGJGQnltQXJCWHNyTDJROVRadVhkeGRtSkZyajFTd3pieTg4UTVtRlVUcC9SRTZHbGlKbmtFUDRKSVRIeDdmM08rcDJ1R2tKV25JMkMiLCJhbXIiOlsicHdkIiwibWZhIl0sImFwcF9kaXNwbGF5bmFtZSI6IkNoYXROb21pbmFCb3QiLCJhcHBpZCI6ImQ0ZjBhODJhLTA5MzMtNGRhZC1iNTg0LTFmYTVjZDdhYjFlMyIsImFwcGlkYWNyIjoiMCIsImZhbWlseV9uYW1lIjoiUGlubyBBZ3VpcnJlIiwiZ2l2ZW5fbmFtZSI6IkFybGV4IiwiaWR0eXAiOiJ1c2VyIiwiaXBhZGRyIjoiMjgwMzplNWUwOjFkMDk6NzcwMDpjOTBiOjRjNzU6NmI3YjphOTBmIiwibmFtZSI6IkFybGV4IFBpbm8gQWd1aXJyZSIsIm9pZCI6Ijk1MTY1ODRiLWI2ODUtNDRjNi04YWRlLWFhNGYzNzliMzg4YiIsIm9ucHJlbV9zaWQiOiJTLTEtNS0yMS0xNjQxMjE5OTcwLTExMzA2MjQ1MTktMTg5NTgyOTkyOS0xMDMxMCIsInBsYXRmIjoiMTQiLCJwdWlkIjoiMTAwMzNGRkY5NEFENjQ3NiIsInJoIjoiMS5BVFFBS3dlVTZUNVNfa3VHNGtRc1hoQ3lSQU1BQUFBQUFBQUF3QUFBQUFBQUFBQTBBSmcwQUEuIiwic2NwIjoiRmlsZXMuUmVhZC5BbGwgb3BlbmlkIHByb2ZpbGUgZW1haWwiLCJzaWQiOiI1ZjZmNGUxZS00OThjLTQ4NTktOTY0Yi1mYzJhM2NjYTM3YTQiLCJzdWIiOiJQSVlCYlZSOF9BVVdBNlRUblpuYnNGWm1vbzRHOWRqa1U3am9IUGJ4T3RrIiwidGVuYW50X3JlZ2lvbl9zY29wZSI6IlNBIiwidGlkIjoiZTk5NDA3MmItNTIzZS00YmZlLTg2ZTItNDQyYzVlMTBiMjQ0IiwidW5pcXVlX25hbWUiOiIxNDYyNDE2NUBpY2VzaS5lZHUuY28iLCJ1cG4iOiIxNDYyNDE2NUBpY2VzaS5lZHUuY28iLCJ1dGkiOiJtY2ZKWVZfRmNFMnktWndKNXZGcEFBIiwidmVyIjoiMS4wIiwid2lkcyI6WyJiNzlmYmY0ZC0zZWY5LTQ2ODktODE0My03NmIxOTRlODU1MDkiXSwieG1zX2Z0ZCI6InNuSll0OGZPUXp4azYxMjlnaGJFMnNjR05GNzM4REp3WHh1YlRtcEVXdG8iLCJ4bXNfaWRyZWwiOiIzMCAxIiwieG1zX3N0Ijp7InN1YiI6InRtN09COGpoc19tNUhVbjFTY3Nua0dzQ2VUZVppb1N0aTM4RkZiQjNwVFkifSwieG1zX3RjZHQiOjE0NDY1NzkxNDd9.hAhZozNGD9g3xesXJT7dD4FjQv9_xQgq3FAYGZ_GJxdRJtoAAQUsklXg_fWUbT7BIWJdl4zu7B7n2ktlwl4TwWpDX5w3GZZ8PdTJgJ_GOmTVYQt2LIc-TLh2UsZOcN68w-r9GDqKNmrLcW_-jlhCUNcK2tn9t-LYGD3AHXG6dF1EhcKZlNoWrTOK8XR2F0NI_ZxEltsJnT-0XOPFVetJc4ryQzvOlhikcOs7TJAnNE0KsDJxCBHOvf4B9v4Fi6amcBO3bbqILhyU6jELigHjmnSq-wuZfO9CIOO1J4YXs0Xi62PdU8kezrL_d_I7OUXKuA3JfkABh-PPfahdpHFVfA\"#os.getenv(\"ACCESS_TOKEN\")\n",
    "#print(\"Token de acceso:\", ACCESS_TOKEN)\n",
    "headers = {\n",
    "    \"Authorization\": f\"Bearer {ACCESS_TOKEN}\"\n",
    "}\n",
    "\n",
    "# Listar archivos de la carpeta de nómina\n",
    "url = f\"https://graph.microsoft.com/v1.0/sites/{SITE_ID}/drives/{DRIVE_ID}/root:/{FOLDER_PATH}:/children\"\n",
    "response = requests.get(url, headers=headers)\n",
    "\n",
    "if response.status_code == 200:\n",
    "    archivos = response.json()[\"value\"]\n",
    "    print(\"\\n📚 Archivos disponibles:\")\n",
    "    for archivo in archivos:\n",
    "        print(\"-\", archivo[\"name\"])\n",
    "else:\n",
    "    print(\"❌ Error al listar archivos:\", response.text)\n",
    "\n",
    "# Funciones auxiliares para filtrar por usuario (ej. por correo)\n",
    "def encontrar_archivo_por_correo(archivos, correo):\n",
    "    for archivo in archivos:\n",
    "        if correo.lower() in archivo[\"name\"].lower():\n",
    "            return archivo\n",
    "    return None\n",
    "\n",
    "# buscar archivo de nómina de un usuario\n",
    "correo_usuario = \"ACUMULADOS.TXT\"  # Debería coincidir con el nombre del archivo\n",
    "archivo_encontrado = encontrar_archivo_por_correo(archivos, correo_usuario)\n",
    "\n",
    "if archivo_encontrado:\n",
    "    print(\"\\n🔍 Archivo encontrado:\", archivo_encontrado[\"name\"])\n",
    "    archivo_url = archivo_encontrado[\"@microsoft.graph.downloadUrl\"]\n",
    "else:\n",
    "    print(\"\\n🚫 No se encontró archivo para el usuario.\")"
   ]
  }
 ],
 "metadata": {
  "kernelspec": {
   "display_name": "Python 3",
   "language": "python",
   "name": "python3"
  },
  "language_info": {
   "codemirror_mode": {
    "name": "ipython",
    "version": 3
   },
   "file_extension": ".py",
   "mimetype": "text/x-python",
   "name": "python",
   "nbconvert_exporter": "python",
   "pygments_lexer": "ipython3",
   "version": "3.12.10"
  }
 },
 "nbformat": 4,
 "nbformat_minor": 2
}
